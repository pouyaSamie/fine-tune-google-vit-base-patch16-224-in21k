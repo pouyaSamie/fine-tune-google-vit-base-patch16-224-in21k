{
 "cells": [
  {
   "cell_type": "code",
   "execution_count": 1,
   "metadata": {},
   "outputs": [
    {
     "name": "stdout",
     "output_type": "stream",
     "text": [
      "Requirement already satisfied: datasets in c:\\users\\user10\\appdata\\local\\anaconda3\\envs\\ml\\lib\\site-packages (2.15.0)\n",
      "Requirement already satisfied: numpy>=1.17 in c:\\users\\user10\\appdata\\local\\anaconda3\\envs\\ml\\lib\\site-packages (from datasets) (1.26.2)\n",
      "Requirement already satisfied: pyarrow>=8.0.0 in c:\\users\\user10\\appdata\\local\\anaconda3\\envs\\ml\\lib\\site-packages (from datasets) (14.0.1)\n",
      "Requirement already satisfied: pyarrow-hotfix in c:\\users\\user10\\appdata\\local\\anaconda3\\envs\\ml\\lib\\site-packages (from datasets) (0.6)\n",
      "Requirement already satisfied: dill<0.3.8,>=0.3.0 in c:\\users\\user10\\appdata\\local\\anaconda3\\envs\\ml\\lib\\site-packages (from datasets) (0.3.7)\n",
      "Requirement already satisfied: pandas in c:\\users\\user10\\appdata\\local\\anaconda3\\envs\\ml\\lib\\site-packages (from datasets) (2.1.4)\n",
      "Requirement already satisfied: requests>=2.19.0 in c:\\users\\user10\\appdata\\local\\anaconda3\\envs\\ml\\lib\\site-packages (from datasets) (2.31.0)\n",
      "Requirement already satisfied: tqdm>=4.62.1 in c:\\users\\user10\\appdata\\local\\anaconda3\\envs\\ml\\lib\\site-packages (from datasets) (4.66.1)\n",
      "Requirement already satisfied: xxhash in c:\\users\\user10\\appdata\\local\\anaconda3\\envs\\ml\\lib\\site-packages (from datasets) (3.4.1)\n",
      "Requirement already satisfied: multiprocess in c:\\users\\user10\\appdata\\local\\anaconda3\\envs\\ml\\lib\\site-packages (from datasets) (0.70.15)\n",
      "Requirement already satisfied: fsspec<=2023.10.0,>=2023.1.0 in c:\\users\\user10\\appdata\\local\\anaconda3\\envs\\ml\\lib\\site-packages (from fsspec[http]<=2023.10.0,>=2023.1.0->datasets) (2023.10.0)\n",
      "Requirement already satisfied: aiohttp in c:\\users\\user10\\appdata\\local\\anaconda3\\envs\\ml\\lib\\site-packages (from datasets) (3.9.1)\n",
      "Requirement already satisfied: huggingface-hub>=0.18.0 in c:\\users\\user10\\appdata\\local\\anaconda3\\envs\\ml\\lib\\site-packages (from datasets) (0.19.4)\n",
      "Requirement already satisfied: packaging in c:\\users\\user10\\appdata\\local\\anaconda3\\envs\\ml\\lib\\site-packages (from datasets) (23.2)\n",
      "Requirement already satisfied: pyyaml>=5.1 in c:\\users\\user10\\appdata\\local\\anaconda3\\envs\\ml\\lib\\site-packages (from datasets) (6.0.1)\n",
      "Requirement already satisfied: attrs>=17.3.0 in c:\\users\\user10\\appdata\\local\\anaconda3\\envs\\ml\\lib\\site-packages (from aiohttp->datasets) (23.1.0)\n",
      "Requirement already satisfied: multidict<7.0,>=4.5 in c:\\users\\user10\\appdata\\local\\anaconda3\\envs\\ml\\lib\\site-packages (from aiohttp->datasets) (6.0.4)\n",
      "Requirement already satisfied: yarl<2.0,>=1.0 in c:\\users\\user10\\appdata\\local\\anaconda3\\envs\\ml\\lib\\site-packages (from aiohttp->datasets) (1.9.4)\n",
      "Requirement already satisfied: frozenlist>=1.1.1 in c:\\users\\user10\\appdata\\local\\anaconda3\\envs\\ml\\lib\\site-packages (from aiohttp->datasets) (1.4.1)\n",
      "Requirement already satisfied: aiosignal>=1.1.2 in c:\\users\\user10\\appdata\\local\\anaconda3\\envs\\ml\\lib\\site-packages (from aiohttp->datasets) (1.3.1)\n",
      "Requirement already satisfied: async-timeout<5.0,>=4.0 in c:\\users\\user10\\appdata\\local\\anaconda3\\envs\\ml\\lib\\site-packages (from aiohttp->datasets) (4.0.3)\n",
      "Requirement already satisfied: filelock in c:\\users\\user10\\appdata\\local\\anaconda3\\envs\\ml\\lib\\site-packages (from huggingface-hub>=0.18.0->datasets) (3.13.1)\n",
      "Requirement already satisfied: typing-extensions>=3.7.4.3 in c:\\users\\user10\\appdata\\local\\anaconda3\\envs\\ml\\lib\\site-packages (from huggingface-hub>=0.18.0->datasets) (4.9.0)\n",
      "Requirement already satisfied: charset-normalizer<4,>=2 in c:\\users\\user10\\appdata\\local\\anaconda3\\envs\\ml\\lib\\site-packages (from requests>=2.19.0->datasets) (2.0.4)\n",
      "Requirement already satisfied: idna<4,>=2.5 in c:\\users\\user10\\appdata\\local\\anaconda3\\envs\\ml\\lib\\site-packages (from requests>=2.19.0->datasets) (3.4)\n",
      "Requirement already satisfied: urllib3<3,>=1.21.1 in c:\\users\\user10\\appdata\\local\\anaconda3\\envs\\ml\\lib\\site-packages (from requests>=2.19.0->datasets) (1.26.18)\n",
      "Requirement already satisfied: certifi>=2017.4.17 in c:\\users\\user10\\appdata\\local\\anaconda3\\envs\\ml\\lib\\site-packages (from requests>=2.19.0->datasets) (2023.11.17)\n",
      "Requirement already satisfied: colorama in c:\\users\\user10\\appdata\\local\\anaconda3\\envs\\ml\\lib\\site-packages (from tqdm>=4.62.1->datasets) (0.4.6)\n",
      "Requirement already satisfied: python-dateutil>=2.8.2 in c:\\users\\user10\\appdata\\local\\anaconda3\\envs\\ml\\lib\\site-packages (from pandas->datasets) (2.8.2)\n",
      "Requirement already satisfied: pytz>=2020.1 in c:\\users\\user10\\appdata\\local\\anaconda3\\envs\\ml\\lib\\site-packages (from pandas->datasets) (2023.3.post1)\n",
      "Requirement already satisfied: tzdata>=2022.1 in c:\\users\\user10\\appdata\\local\\anaconda3\\envs\\ml\\lib\\site-packages (from pandas->datasets) (2023.3)\n",
      "Requirement already satisfied: six>=1.5 in c:\\users\\user10\\appdata\\local\\anaconda3\\envs\\ml\\lib\\site-packages (from python-dateutil>=2.8.2->pandas->datasets) (1.16.0)\n"
     ]
    },
    {
     "name": "stderr",
     "output_type": "stream",
     "text": [
      "WARNING: Retrying (Retry(total=4, connect=None, read=None, redirect=None, status=None)) after connection broken by 'ConnectTimeoutError(<pip._vendor.urllib3.connection.HTTPSConnection object at 0x000002041B6CCF40>, 'Connection to pypi.org timed out. (connect timeout=15)')': /simple/datasets/\n"
     ]
    },
    {
     "name": "stdout",
     "output_type": "stream",
     "text": [
      "Requirement already satisfied: pillow in c:\\users\\user10\\appdata\\local\\anaconda3\\envs\\ml\\lib\\site-packages (10.1.0)\n",
      "Requirement already satisfied: accelerate in c:\\users\\user10\\appdata\\local\\anaconda3\\envs\\ml\\lib\\site-packages (0.25.0)\n",
      "Requirement already satisfied: numpy>=1.17 in c:\\users\\user10\\appdata\\local\\anaconda3\\envs\\ml\\lib\\site-packages (from accelerate) (1.26.2)\n",
      "Requirement already satisfied: packaging>=20.0 in c:\\users\\user10\\appdata\\local\\anaconda3\\envs\\ml\\lib\\site-packages (from accelerate) (23.2)\n",
      "Requirement already satisfied: psutil in c:\\users\\user10\\appdata\\local\\anaconda3\\envs\\ml\\lib\\site-packages (from accelerate) (5.9.0)\n",
      "Requirement already satisfied: pyyaml in c:\\users\\user10\\appdata\\local\\anaconda3\\envs\\ml\\lib\\site-packages (from accelerate) (6.0.1)\n",
      "Requirement already satisfied: torch>=1.10.0 in c:\\users\\user10\\appdata\\local\\anaconda3\\envs\\ml\\lib\\site-packages (from accelerate) (2.1.2)\n",
      "Requirement already satisfied: huggingface-hub in c:\\users\\user10\\appdata\\local\\anaconda3\\envs\\ml\\lib\\site-packages (from accelerate) (0.19.4)\n",
      "Requirement already satisfied: safetensors>=0.3.1 in c:\\users\\user10\\appdata\\local\\anaconda3\\envs\\ml\\lib\\site-packages (from accelerate) (0.4.1)\n",
      "Requirement already satisfied: filelock in c:\\users\\user10\\appdata\\local\\anaconda3\\envs\\ml\\lib\\site-packages (from torch>=1.10.0->accelerate) (3.13.1)\n",
      "Requirement already satisfied: typing-extensions in c:\\users\\user10\\appdata\\local\\anaconda3\\envs\\ml\\lib\\site-packages (from torch>=1.10.0->accelerate) (4.9.0)\n",
      "Requirement already satisfied: sympy in c:\\users\\user10\\appdata\\local\\anaconda3\\envs\\ml\\lib\\site-packages (from torch>=1.10.0->accelerate) (1.12)\n",
      "Requirement already satisfied: networkx in c:\\users\\user10\\appdata\\local\\anaconda3\\envs\\ml\\lib\\site-packages (from torch>=1.10.0->accelerate) (3.2.1)\n",
      "Requirement already satisfied: jinja2 in c:\\users\\user10\\appdata\\local\\anaconda3\\envs\\ml\\lib\\site-packages (from torch>=1.10.0->accelerate) (3.1.2)\n",
      "Requirement already satisfied: fsspec in c:\\users\\user10\\appdata\\local\\anaconda3\\envs\\ml\\lib\\site-packages (from torch>=1.10.0->accelerate) (2023.10.0)\n",
      "Requirement already satisfied: requests in c:\\users\\user10\\appdata\\local\\anaconda3\\envs\\ml\\lib\\site-packages (from huggingface-hub->accelerate) (2.31.0)\n",
      "Requirement already satisfied: tqdm>=4.42.1 in c:\\users\\user10\\appdata\\local\\anaconda3\\envs\\ml\\lib\\site-packages (from huggingface-hub->accelerate) (4.66.1)\n",
      "Requirement already satisfied: colorama in c:\\users\\user10\\appdata\\local\\anaconda3\\envs\\ml\\lib\\site-packages (from tqdm>=4.42.1->huggingface-hub->accelerate) (0.4.6)\n",
      "Requirement already satisfied: MarkupSafe>=2.0 in c:\\users\\user10\\appdata\\local\\anaconda3\\envs\\ml\\lib\\site-packages (from jinja2->torch>=1.10.0->accelerate) (2.1.1)\n",
      "Requirement already satisfied: charset-normalizer<4,>=2 in c:\\users\\user10\\appdata\\local\\anaconda3\\envs\\ml\\lib\\site-packages (from requests->huggingface-hub->accelerate) (2.0.4)\n",
      "Requirement already satisfied: idna<4,>=2.5 in c:\\users\\user10\\appdata\\local\\anaconda3\\envs\\ml\\lib\\site-packages (from requests->huggingface-hub->accelerate) (3.4)\n",
      "Requirement already satisfied: urllib3<3,>=1.21.1 in c:\\users\\user10\\appdata\\local\\anaconda3\\envs\\ml\\lib\\site-packages (from requests->huggingface-hub->accelerate) (1.26.18)\n",
      "Requirement already satisfied: certifi>=2017.4.17 in c:\\users\\user10\\appdata\\local\\anaconda3\\envs\\ml\\lib\\site-packages (from requests->huggingface-hub->accelerate) (2023.11.17)\n",
      "Requirement already satisfied: mpmath>=0.19 in c:\\users\\user10\\appdata\\local\\anaconda3\\envs\\ml\\lib\\site-packages (from sympy->torch>=1.10.0->accelerate) (1.3.0)\n",
      "Requirement already satisfied: transformers in c:\\users\\user10\\appdata\\local\\anaconda3\\envs\\ml\\lib\\site-packages (4.36.2)\n",
      "Requirement already satisfied: filelock in c:\\users\\user10\\appdata\\local\\anaconda3\\envs\\ml\\lib\\site-packages (from transformers) (3.13.1)\n",
      "Requirement already satisfied: huggingface-hub<1.0,>=0.19.3 in c:\\users\\user10\\appdata\\local\\anaconda3\\envs\\ml\\lib\\site-packages (from transformers) (0.19.4)\n",
      "Requirement already satisfied: numpy>=1.17 in c:\\users\\user10\\appdata\\local\\anaconda3\\envs\\ml\\lib\\site-packages (from transformers) (1.26.2)\n",
      "Requirement already satisfied: packaging>=20.0 in c:\\users\\user10\\appdata\\local\\anaconda3\\envs\\ml\\lib\\site-packages (from transformers) (23.2)\n",
      "Requirement already satisfied: pyyaml>=5.1 in c:\\users\\user10\\appdata\\local\\anaconda3\\envs\\ml\\lib\\site-packages (from transformers) (6.0.1)\n",
      "Requirement already satisfied: regex!=2019.12.17 in c:\\users\\user10\\appdata\\local\\anaconda3\\envs\\ml\\lib\\site-packages (from transformers) (2023.10.3)\n",
      "Requirement already satisfied: requests in c:\\users\\user10\\appdata\\local\\anaconda3\\envs\\ml\\lib\\site-packages (from transformers) (2.31.0)\n",
      "Requirement already satisfied: tokenizers<0.19,>=0.14 in c:\\users\\user10\\appdata\\local\\anaconda3\\envs\\ml\\lib\\site-packages (from transformers) (0.15.0)\n",
      "Requirement already satisfied: safetensors>=0.3.1 in c:\\users\\user10\\appdata\\local\\anaconda3\\envs\\ml\\lib\\site-packages (from transformers) (0.4.1)\n",
      "Requirement already satisfied: tqdm>=4.27 in c:\\users\\user10\\appdata\\local\\anaconda3\\envs\\ml\\lib\\site-packages (from transformers) (4.66.1)\n",
      "Requirement already satisfied: fsspec>=2023.5.0 in c:\\users\\user10\\appdata\\local\\anaconda3\\envs\\ml\\lib\\site-packages (from huggingface-hub<1.0,>=0.19.3->transformers) (2023.10.0)\n",
      "Requirement already satisfied: typing-extensions>=3.7.4.3 in c:\\users\\user10\\appdata\\local\\anaconda3\\envs\\ml\\lib\\site-packages (from huggingface-hub<1.0,>=0.19.3->transformers) (4.9.0)\n",
      "Requirement already satisfied: colorama in c:\\users\\user10\\appdata\\local\\anaconda3\\envs\\ml\\lib\\site-packages (from tqdm>=4.27->transformers) (0.4.6)\n",
      "Requirement already satisfied: charset-normalizer<4,>=2 in c:\\users\\user10\\appdata\\local\\anaconda3\\envs\\ml\\lib\\site-packages (from requests->transformers) (2.0.4)\n",
      "Requirement already satisfied: idna<4,>=2.5 in c:\\users\\user10\\appdata\\local\\anaconda3\\envs\\ml\\lib\\site-packages (from requests->transformers) (3.4)\n",
      "Requirement already satisfied: urllib3<3,>=1.21.1 in c:\\users\\user10\\appdata\\local\\anaconda3\\envs\\ml\\lib\\site-packages (from requests->transformers) (1.26.18)\n",
      "Requirement already satisfied: certifi>=2017.4.17 in c:\\users\\user10\\appdata\\local\\anaconda3\\envs\\ml\\lib\\site-packages (from requests->transformers) (2023.11.17)\n",
      "Requirement already satisfied: tensorboardX in c:\\users\\user10\\appdata\\local\\anaconda3\\envs\\ml\\lib\\site-packages (2.6.2.2)\n",
      "Requirement already satisfied: numpy in c:\\users\\user10\\appdata\\local\\anaconda3\\envs\\ml\\lib\\site-packages (from tensorboardX) (1.26.2)\n",
      "Requirement already satisfied: packaging in c:\\users\\user10\\appdata\\local\\anaconda3\\envs\\ml\\lib\\site-packages (from tensorboardX) (23.2)\n",
      "Requirement already satisfied: protobuf>=3.20 in c:\\users\\user10\\appdata\\local\\anaconda3\\envs\\ml\\lib\\site-packages (from tensorboardX) (4.25.1)\n",
      "Requirement already satisfied: chardet in c:\\users\\user10\\appdata\\local\\anaconda3\\envs\\ml\\lib\\site-packages (5.2.0)\n",
      "Requirement already satisfied: huggingface_hub in c:\\users\\user10\\appdata\\local\\anaconda3\\envs\\ml\\lib\\site-packages (0.19.4)\n",
      "Requirement already satisfied: filelock in c:\\users\\user10\\appdata\\local\\anaconda3\\envs\\ml\\lib\\site-packages (from huggingface_hub) (3.13.1)\n",
      "Requirement already satisfied: fsspec>=2023.5.0 in c:\\users\\user10\\appdata\\local\\anaconda3\\envs\\ml\\lib\\site-packages (from huggingface_hub) (2023.10.0)\n",
      "Requirement already satisfied: requests in c:\\users\\user10\\appdata\\local\\anaconda3\\envs\\ml\\lib\\site-packages (from huggingface_hub) (2.31.0)\n",
      "Requirement already satisfied: tqdm>=4.42.1 in c:\\users\\user10\\appdata\\local\\anaconda3\\envs\\ml\\lib\\site-packages (from huggingface_hub) (4.66.1)\n",
      "Requirement already satisfied: pyyaml>=5.1 in c:\\users\\user10\\appdata\\local\\anaconda3\\envs\\ml\\lib\\site-packages (from huggingface_hub) (6.0.1)\n",
      "Requirement already satisfied: typing-extensions>=3.7.4.3 in c:\\users\\user10\\appdata\\local\\anaconda3\\envs\\ml\\lib\\site-packages (from huggingface_hub) (4.9.0)\n",
      "Requirement already satisfied: packaging>=20.9 in c:\\users\\user10\\appdata\\local\\anaconda3\\envs\\ml\\lib\\site-packages (from huggingface_hub) (23.2)\n",
      "Requirement already satisfied: colorama in c:\\users\\user10\\appdata\\local\\anaconda3\\envs\\ml\\lib\\site-packages (from tqdm>=4.42.1->huggingface_hub) (0.4.6)\n",
      "Requirement already satisfied: charset-normalizer<4,>=2 in c:\\users\\user10\\appdata\\local\\anaconda3\\envs\\ml\\lib\\site-packages (from requests->huggingface_hub) (2.0.4)\n",
      "Requirement already satisfied: idna<4,>=2.5 in c:\\users\\user10\\appdata\\local\\anaconda3\\envs\\ml\\lib\\site-packages (from requests->huggingface_hub) (3.4)\n",
      "Requirement already satisfied: urllib3<3,>=1.21.1 in c:\\users\\user10\\appdata\\local\\anaconda3\\envs\\ml\\lib\\site-packages (from requests->huggingface_hub) (1.26.18)\n",
      "Requirement already satisfied: certifi>=2017.4.17 in c:\\users\\user10\\appdata\\local\\anaconda3\\envs\\ml\\lib\\site-packages (from requests->huggingface_hub) (2023.11.17)\n"
     ]
    },
    {
     "name": "stderr",
     "output_type": "stream",
     "text": [
      "WARNING: Retrying (Retry(total=4, connect=None, read=None, redirect=None, status=None)) after connection broken by 'SSLError(SSLError(1, '[SSL: SSLV3_ALERT_HANDSHAKE_FAILURE] sslv3 alert handshake failure (_ssl.c:1007)'))': /simple/huggingface-hub/\n"
     ]
    },
    {
     "name": "stdout",
     "output_type": "stream",
     "text": [
      "Requirement already satisfied: torch in c:\\users\\user10\\appdata\\local\\anaconda3\\envs\\ml\\lib\\site-packages (2.1.2)\n",
      "Requirement already satisfied: filelock in c:\\users\\user10\\appdata\\local\\anaconda3\\envs\\ml\\lib\\site-packages (from torch) (3.13.1)\n",
      "Requirement already satisfied: typing-extensions in c:\\users\\user10\\appdata\\local\\anaconda3\\envs\\ml\\lib\\site-packages (from torch) (4.9.0)\n",
      "Requirement already satisfied: sympy in c:\\users\\user10\\appdata\\local\\anaconda3\\envs\\ml\\lib\\site-packages (from torch) (1.12)\n",
      "Requirement already satisfied: networkx in c:\\users\\user10\\appdata\\local\\anaconda3\\envs\\ml\\lib\\site-packages (from torch) (3.2.1)\n",
      "Requirement already satisfied: jinja2 in c:\\users\\user10\\appdata\\local\\anaconda3\\envs\\ml\\lib\\site-packages (from torch) (3.1.2)\n",
      "Requirement already satisfied: fsspec in c:\\users\\user10\\appdata\\local\\anaconda3\\envs\\ml\\lib\\site-packages (from torch) (2023.10.0)\n",
      "Requirement already satisfied: MarkupSafe>=2.0 in c:\\users\\user10\\appdata\\local\\anaconda3\\envs\\ml\\lib\\site-packages (from jinja2->torch) (2.1.1)\n",
      "Requirement already satisfied: mpmath>=0.19 in c:\\users\\user10\\appdata\\local\\anaconda3\\envs\\ml\\lib\\site-packages (from sympy->torch) (1.3.0)\n"
     ]
    },
    {
     "name": "stderr",
     "output_type": "stream",
     "text": [
      "WARNING: Retrying (Retry(total=4, connect=None, read=None, redirect=None, status=None)) after connection broken by 'SSLError(SSLError(1, '[SSL: SSLV3_ALERT_HANDSHAKE_FAILURE] sslv3 alert handshake failure (_ssl.c:1007)'))': /simple/torch/\n"
     ]
    }
   ],
   "source": [
    "! pip install  -U datasets\n",
    "! pip install  -U pillow\n",
    "! pip install -U accelerate\n",
    "! pip install -U transformers\n",
    "! pip install  -U tensorboardX\n",
    "! pip install  -U chardet\n",
    "! pip install  -U huggingface_hub\n",
    "! pip install -U torch"
   ]
  },
  {
   "cell_type": "code",
   "execution_count": 16,
   "metadata": {},
   "outputs": [
    {
     "data": {
      "text/plain": [
       "DatasetDict({\n",
       "    train: Dataset({\n",
       "        features: ['image_file_path', 'image', 'labels'],\n",
       "        num_rows: 1034\n",
       "    })\n",
       "    validation: Dataset({\n",
       "        features: ['image_file_path', 'image', 'labels'],\n",
       "        num_rows: 133\n",
       "    })\n",
       "    test: Dataset({\n",
       "        features: ['image_file_path', 'image', 'labels'],\n",
       "        num_rows: 128\n",
       "    })\n",
       "})"
      ]
     },
     "execution_count": 16,
     "metadata": {},
     "output_type": "execute_result"
    }
   ],
   "source": [
    "from datasets import load_dataset\n",
    "\n",
    "ds = load_dataset('beans')\n",
    "ds"
   ]
  },
  {
   "cell_type": "code",
   "execution_count": 17,
   "metadata": {},
   "outputs": [
    {
     "data": {
      "text/plain": [
       "{'image_file_path': 'C:\\\\Users\\\\user10\\\\.cache\\\\huggingface\\\\datasets\\\\downloads\\\\extracted\\\\0b50ae254c32a5acff1773d096784fdf4595a00b9a1c547d22f1492a44bf0bb1\\\\train\\\\bean_rust\\\\bean_rust_train.148.jpg',\n",
       " 'image': <PIL.JpegImagePlugin.JpegImageFile image mode=RGB size=500x500>,\n",
       " 'labels': 1}"
      ]
     },
     "execution_count": 17,
     "metadata": {},
     "output_type": "execute_result"
    }
   ],
   "source": [
    "ex = ds['train'][400]\n",
    "ex"
   ]
  },
  {
   "cell_type": "code",
   "execution_count": 18,
   "metadata": {},
   "outputs": [],
   "source": [
    "image = ex['image']\n"
   ]
  },
  {
   "cell_type": "code",
   "execution_count": 19,
   "metadata": {},
   "outputs": [
    {
     "data": {
      "text/plain": [
       "ClassLabel(names=['angular_leaf_spot', 'bean_rust', 'healthy'], id=None)"
      ]
     },
     "execution_count": 19,
     "metadata": {},
     "output_type": "execute_result"
    }
   ],
   "source": [
    "labels = ds['train'].features['labels']\n",
    "labels"
   ]
  },
  {
   "cell_type": "code",
   "execution_count": 20,
   "metadata": {},
   "outputs": [
    {
     "name": "stdout",
     "output_type": "stream",
     "text": [
      "ex[\"labels\"]:1\n"
     ]
    },
    {
     "data": {
      "text/plain": [
       "'bean_rust'"
      ]
     },
     "execution_count": 20,
     "metadata": {},
     "output_type": "execute_result"
    }
   ],
   "source": [
    "print(f'ex[\"labels\"]:{ex[\"labels\"]}')\n",
    "labels.int2str(ex['labels'])"
   ]
  },
  {
   "cell_type": "code",
   "execution_count": 21,
   "metadata": {},
   "outputs": [],
   "source": [
    "import random\n",
    "from PIL import ImageDraw, ImageFont, Image\n",
    "def show_examples(ds, seed: int = 1234, examples_per_class: int = 3, size=(350, 350)):\n",
    "\n",
    "    w, h = size\n",
    "    labels = ds['train'].features['labels'].names\n",
    "    grid = Image.new('RGB', size=(examples_per_class * w, len(labels) * h))\n",
    "    draw = ImageDraw.Draw(grid)\n",
    "\n",
    "    for label_id, label in enumerate(labels):\n",
    "\n",
    "        # Filter the dataset by a single label, shuffle it, and grab a few samples\n",
    "        ds_slice = ds['train'].filter(lambda ex: ex['labels'] == label_id).shuffle(seed).select(range(examples_per_class))\n",
    "\n",
    "        # Plot this label's examples along a row\n",
    "        for i, example in enumerate(ds_slice):\n",
    "            image = example['image']\n",
    "            idx = examples_per_class * label_id + i\n",
    "            box = (idx % examples_per_class * w, idx // examples_per_class * h)\n",
    "            grid.paste(image.resize(size), box=box)\n",
    "            draw.text(box, label, (255, 255, 255))\n",
    "\n",
    "    return grid\n"
   ]
  },
  {
   "cell_type": "code",
   "execution_count": null,
   "metadata": {},
   "outputs": [],
   "source": [
    "show_examples(ds, seed=random.randint(0, 1337), examples_per_class=3)"
   ]
  },
  {
   "cell_type": "code",
   "execution_count": 23,
   "metadata": {},
   "outputs": [],
   "source": [
    "from transformers import ViTImageProcessor\n",
    "\n",
    "model_name_or_path = 'google/vit-base-patch16-224-in21k'\n",
    "processor = ViTImageProcessor.from_pretrained(model_name_or_path)"
   ]
  },
  {
   "cell_type": "code",
   "execution_count": 24,
   "metadata": {},
   "outputs": [
    {
     "data": {
      "text/plain": [
       "ViTImageProcessor {\n",
       "  \"do_normalize\": true,\n",
       "  \"do_rescale\": true,\n",
       "  \"do_resize\": true,\n",
       "  \"image_mean\": [\n",
       "    0.5,\n",
       "    0.5,\n",
       "    0.5\n",
       "  ],\n",
       "  \"image_processor_type\": \"ViTImageProcessor\",\n",
       "  \"image_std\": [\n",
       "    0.5,\n",
       "    0.5,\n",
       "    0.5\n",
       "  ],\n",
       "  \"resample\": 2,\n",
       "  \"rescale_factor\": 0.00392156862745098,\n",
       "  \"size\": {\n",
       "    \"height\": 224,\n",
       "    \"width\": 224\n",
       "  }\n",
       "}"
      ]
     },
     "execution_count": 24,
     "metadata": {},
     "output_type": "execute_result"
    }
   ],
   "source": [
    "processor"
   ]
  },
  {
   "cell_type": "code",
   "execution_count": 25,
   "metadata": {},
   "outputs": [
    {
     "data": {
      "text/plain": [
       "{'pixel_values': tensor([[[[ 0.7882,  0.6706,  0.7098,  ..., -0.1922, -0.1294, -0.1765],\n",
       "          [ 0.7098,  0.6000,  0.6784,  ..., -0.2863, -0.1608, -0.1608],\n",
       "          [ 0.4902,  0.3882,  0.4667,  ..., -0.1922, -0.0196,  0.0275],\n",
       "          ...,\n",
       "          [ 0.3804,  0.5294,  0.4824,  ..., -0.8275, -0.8196, -0.8039],\n",
       "          [ 0.0902,  0.3725,  0.3804,  ..., -0.8667, -0.8431, -0.8510],\n",
       "          [-0.0510,  0.2784,  0.3176,  ..., -0.8588, -0.8275, -0.8353]],\n",
       "\n",
       "         [[ 0.4902,  0.3490,  0.3804,  ..., -0.6078, -0.5373, -0.5843],\n",
       "          [ 0.3569,  0.2000,  0.3176,  ..., -0.7255, -0.6000, -0.5922],\n",
       "          [ 0.0431, -0.0902,  0.0588,  ..., -0.6392, -0.4745, -0.4275],\n",
       "          ...,\n",
       "          [-0.2235, -0.0510, -0.0902,  ..., -0.9686, -0.9529, -0.9294],\n",
       "          [-0.5059, -0.2078, -0.1922,  ..., -0.9922, -0.9922, -1.0000],\n",
       "          [-0.6471, -0.2941, -0.2471,  ..., -0.9843, -0.9765, -0.9843]],\n",
       "\n",
       "         [[ 0.4196,  0.2706,  0.3020,  ..., -0.7098, -0.6392, -0.6863],\n",
       "          [ 0.2314,  0.0824,  0.2078,  ..., -0.8039, -0.6627, -0.6627],\n",
       "          [-0.1137, -0.2314, -0.0824,  ..., -0.7020, -0.5373, -0.4980],\n",
       "          ...,\n",
       "          [-0.2784, -0.1373, -0.2000,  ..., -0.9529, -0.9529, -0.9451],\n",
       "          [-0.6000, -0.3098, -0.3176,  ..., -0.9765, -0.9843, -0.9922],\n",
       "          [-0.7569, -0.4118, -0.3804,  ..., -0.9765, -0.9686, -0.9686]]]])}"
      ]
     },
     "execution_count": 25,
     "metadata": {},
     "output_type": "execute_result"
    }
   ],
   "source": [
    "processor(image, return_tensors='pt')\n"
   ]
  },
  {
   "cell_type": "code",
   "execution_count": 26,
   "metadata": {},
   "outputs": [],
   "source": [
    "def process_example(example):\n",
    "    inputs = processor(example['image'], return_tensors='pt')\n",
    "    inputs['labels'] = example['labels']\n",
    "    return inputs"
   ]
  },
  {
   "cell_type": "code",
   "execution_count": 27,
   "metadata": {},
   "outputs": [
    {
     "data": {
      "text/plain": [
       "{'pixel_values': tensor([[[[-0.5686, -0.5686, -0.5608,  ..., -0.0275,  0.1843, -0.2471],\n",
       "          [-0.6078, -0.6000, -0.5765,  ..., -0.0353, -0.0196, -0.2627],\n",
       "          [-0.6314, -0.6314, -0.6078,  ..., -0.2314, -0.3647, -0.2235],\n",
       "          ...,\n",
       "          [-0.5373, -0.5529, -0.5843,  ..., -0.0824, -0.0431, -0.0902],\n",
       "          [-0.5608, -0.5765, -0.5843,  ...,  0.3098,  0.1843,  0.1294],\n",
       "          [-0.5843, -0.5922, -0.6078,  ...,  0.2627,  0.1608,  0.2000]],\n",
       "\n",
       "         [[-0.7098, -0.7098, -0.7490,  ..., -0.3725, -0.1608, -0.6000],\n",
       "          [-0.7333, -0.7333, -0.7569,  ..., -0.3647, -0.3255, -0.5686],\n",
       "          [-0.7490, -0.7490, -0.7725,  ..., -0.5373, -0.6549, -0.5373],\n",
       "          ...,\n",
       "          [-0.7725, -0.7804, -0.8196,  ..., -0.2235, -0.0353,  0.0824],\n",
       "          [-0.7961, -0.8118, -0.8118,  ...,  0.1922,  0.3098,  0.3725],\n",
       "          [-0.8196, -0.8196, -0.8275,  ...,  0.0824,  0.2784,  0.3961]],\n",
       "\n",
       "         [[-0.9922, -0.9922, -1.0000,  ..., -0.5451, -0.3569, -0.7255],\n",
       "          [-0.9922, -0.9922, -1.0000,  ..., -0.5529, -0.5216, -0.7176],\n",
       "          [-0.9843, -0.9922, -1.0000,  ..., -0.6549, -0.7569, -0.6392],\n",
       "          ...,\n",
       "          [-0.8431, -0.8588, -0.8980,  ..., -0.5765, -0.5529, -0.5451],\n",
       "          [-0.8588, -0.8902, -0.9059,  ..., -0.2000, -0.2392, -0.2627],\n",
       "          [-0.8824, -0.9059, -0.9216,  ..., -0.2549, -0.2000, -0.1216]]]]), 'labels': 0}"
      ]
     },
     "execution_count": 27,
     "metadata": {},
     "output_type": "execute_result"
    }
   ],
   "source": [
    "process_example(ds['train'][0])"
   ]
  },
  {
   "cell_type": "code",
   "execution_count": 28,
   "metadata": {},
   "outputs": [],
   "source": [
    "ds = load_dataset('beans')\n",
    "def transform(example_batch):\n",
    "    # Take a list of PIL images and turn them to pixel values\n",
    "    inputs = processor([x for x in example_batch['image']], return_tensors='pt')\n",
    "\n",
    "    # Don't forget to include the labels!\n",
    "    inputs['labels'] = example_batch['labels']\n",
    "    return inputs"
   ]
  },
  {
   "cell_type": "code",
   "execution_count": 29,
   "metadata": {},
   "outputs": [],
   "source": [
    "prepared_ds = ds.with_transform(transform)"
   ]
  },
  {
   "cell_type": "code",
   "execution_count": 30,
   "metadata": {},
   "outputs": [
    {
     "data": {
      "text/plain": [
       "{'pixel_values': tensor([[[[-0.5686, -0.5686, -0.5608,  ..., -0.0275,  0.1843, -0.2471],\n",
       "          [-0.6078, -0.6000, -0.5765,  ..., -0.0353, -0.0196, -0.2627],\n",
       "          [-0.6314, -0.6314, -0.6078,  ..., -0.2314, -0.3647, -0.2235],\n",
       "          ...,\n",
       "          [-0.5373, -0.5529, -0.5843,  ..., -0.0824, -0.0431, -0.0902],\n",
       "          [-0.5608, -0.5765, -0.5843,  ...,  0.3098,  0.1843,  0.1294],\n",
       "          [-0.5843, -0.5922, -0.6078,  ...,  0.2627,  0.1608,  0.2000]],\n",
       "\n",
       "         [[-0.7098, -0.7098, -0.7490,  ..., -0.3725, -0.1608, -0.6000],\n",
       "          [-0.7333, -0.7333, -0.7569,  ..., -0.3647, -0.3255, -0.5686],\n",
       "          [-0.7490, -0.7490, -0.7725,  ..., -0.5373, -0.6549, -0.5373],\n",
       "          ...,\n",
       "          [-0.7725, -0.7804, -0.8196,  ..., -0.2235, -0.0353,  0.0824],\n",
       "          [-0.7961, -0.8118, -0.8118,  ...,  0.1922,  0.3098,  0.3725],\n",
       "          [-0.8196, -0.8196, -0.8275,  ...,  0.0824,  0.2784,  0.3961]],\n",
       "\n",
       "         [[-0.9922, -0.9922, -1.0000,  ..., -0.5451, -0.3569, -0.7255],\n",
       "          [-0.9922, -0.9922, -1.0000,  ..., -0.5529, -0.5216, -0.7176],\n",
       "          [-0.9843, -0.9922, -1.0000,  ..., -0.6549, -0.7569, -0.6392],\n",
       "          ...,\n",
       "          [-0.8431, -0.8588, -0.8980,  ..., -0.5765, -0.5529, -0.5451],\n",
       "          [-0.8588, -0.8902, -0.9059,  ..., -0.2000, -0.2392, -0.2627],\n",
       "          [-0.8824, -0.9059, -0.9216,  ..., -0.2549, -0.2000, -0.1216]]],\n",
       "\n",
       "\n",
       "        [[[-0.5137, -0.4902, -0.4196,  ..., -0.0275, -0.0039, -0.2157],\n",
       "          [-0.4902, -0.4667, -0.4196,  ..., -0.0588, -0.0118, -0.2392],\n",
       "          [-0.4588, -0.4902, -0.5137,  ..., -0.0745,  0.0039, -0.3020],\n",
       "          ...,\n",
       "          [-0.4980, -0.4980, -0.5294,  ..., -0.2000, -0.2157, -0.3882],\n",
       "          [-0.5451, -0.5294, -0.5216,  ..., -0.1922, -0.1922, -0.3882],\n",
       "          [-0.5216, -0.5373, -0.5451,  ..., -0.1294, -0.1529, -0.2627]],\n",
       "\n",
       "         [[-0.1843, -0.2000, -0.1529,  ...,  0.2157,  0.2078, -0.0902],\n",
       "          [-0.1686, -0.1686, -0.1529,  ...,  0.1922,  0.2235, -0.0902],\n",
       "          [-0.1529, -0.2000, -0.2392,  ...,  0.1686,  0.2549, -0.1294],\n",
       "          ...,\n",
       "          [-0.7725, -0.7569, -0.7569,  ..., -0.4196, -0.4588, -0.6471],\n",
       "          [-0.7961, -0.7804, -0.7647,  ..., -0.4196, -0.4510, -0.6627],\n",
       "          [-0.7725, -0.7961, -0.8039,  ..., -0.3725, -0.4196, -0.5451]],\n",
       "\n",
       "         [[-0.7569, -0.8510, -0.8353,  ..., -0.3255, -0.2706, -0.5608],\n",
       "          [-0.7804, -0.8431, -0.8118,  ..., -0.3490, -0.2706, -0.5608],\n",
       "          [-0.8118, -0.8588, -0.8510,  ..., -0.3647, -0.2314, -0.5373],\n",
       "          ...,\n",
       "          [-0.5216, -0.5137, -0.5294,  ..., -0.2471, -0.2627, -0.4431],\n",
       "          [-0.5529, -0.5373, -0.5216,  ..., -0.2235, -0.2235, -0.4431],\n",
       "          [-0.5294, -0.5529, -0.5608,  ..., -0.1686, -0.1922, -0.3333]]]]), 'labels': [0, 0]}"
      ]
     },
     "execution_count": 30,
     "metadata": {},
     "output_type": "execute_result"
    }
   ],
   "source": [
    "prepared_ds['train'][0:2]"
   ]
  },
  {
   "cell_type": "code",
   "execution_count": 1,
   "metadata": {},
   "outputs": [],
   "source": [
    "import torch\n",
    "\n",
    "def collate_fn(batch):\n",
    "    return {\n",
    "        'pixel_values': torch.stack([x['pixel_values'] for x in batch]),\n",
    "        'labels': torch.tensor([x['labels'] for x in batch])\n",
    "    }"
   ]
  },
  {
   "cell_type": "code",
   "execution_count": null,
   "metadata": {},
   "outputs": [],
   "source": [
    "import numpy as np\n",
    "from datasets import load_metric\n",
    "\n",
    "metric = load_metric(\"accuracy\")\n",
    "def compute_metrics(p):\n",
    "    return metric.compute(predictions=np.argmax(p.predictions, axis=1), references=p.label_ids)\n"
   ]
  },
  {
   "cell_type": "code",
   "execution_count": null,
   "metadata": {},
   "outputs": [],
   "source": [
    "from transformers import ViTForImageClassification\n",
    "\n",
    "labels = ds['train'].features['labels'].names\n",
    "\n",
    "model = ViTForImageClassification.from_pretrained(\n",
    "    model_name_or_path,\n",
    "    num_labels=len(labels),\n",
    "    id2label={str(i): c for i, c in enumerate(labels)},\n",
    "    label2id={c: str(i) for i, c in enumerate(labels)}\n",
    ")"
   ]
  },
  {
   "cell_type": "code",
   "execution_count": null,
   "metadata": {},
   "outputs": [],
   "source": [
    "! pip install accelerate -U"
   ]
  },
  {
   "cell_type": "code",
   "execution_count": 35,
   "metadata": {},
   "outputs": [],
   "source": [
    "from transformers import TrainingArguments\n",
    "\n",
    "training_args = TrainingArguments(\n",
    "  output_dir=\"./vit-base-beans\",\n",
    "  per_device_train_batch_size=16,\n",
    "  evaluation_strategy=\"steps\",\n",
    "  num_train_epochs=4,\n",
    "  fp16=False,\n",
    "  save_steps=100,\n",
    "  eval_steps=100,\n",
    "  logging_steps=10,\n",
    "  learning_rate=2e-4,\n",
    "  save_total_limit=2,\n",
    "  remove_unused_columns=False,\n",
    "  push_to_hub=False,\n",
    "  report_to='tensorboard',\n",
    "  load_best_model_at_end=True,\n",
    ")"
   ]
  },
  {
   "cell_type": "code",
   "execution_count": 36,
   "metadata": {},
   "outputs": [],
   "source": [
    "from transformers import Trainer\n",
    "\n",
    "trainer = Trainer(\n",
    "    model=model,\n",
    "    args=training_args,\n",
    "    data_collator=collate_fn,\n",
    "    compute_metrics=compute_metrics,\n",
    "    train_dataset=prepared_ds[\"train\"],\n",
    "    eval_dataset=prepared_ds[\"validation\"],\n",
    "    tokenizer=processor,\n",
    ")"
   ]
  },
  {
   "cell_type": "code",
   "execution_count": 37,
   "metadata": {},
   "outputs": [
    {
     "name": "stdout",
     "output_type": "stream",
     "text": [
      "{'loss': 0.0107, 'learning_rate': 7.692307692307694e-06, 'epoch': 3.85}\n",
      "{'loss': 0.0108, 'learning_rate': 0.0, 'epoch': 4.0}\n",
      "{'train_runtime': 2425.653, 'train_samples_per_second': 1.705, 'train_steps_per_second': 0.107, 'train_loss': 0.1207445859335936, 'epoch': 4.0}\n",
      "***** train metrics *****\n",
      "  epoch                    =        4.0\n",
      "  train_loss               =     0.1207\n",
      "  train_runtime            = 0:40:25.65\n",
      "  train_samples_per_second =      1.705\n",
      "  train_steps_per_second   =      0.107\n"
     ]
    }
   ],
   "source": [
    "train_results = trainer.train()\n",
    "trainer.save_model()\n",
    "trainer.log_metrics(\"train\", train_results.metrics)\n",
    "trainer.save_metrics(\"train\", train_results.metrics)\n",
    "trainer.save_state()"
   ]
  },
  {
   "cell_type": "code",
   "execution_count": 39,
   "metadata": {},
   "outputs": [
    {
     "name": "stdout",
     "output_type": "stream",
     "text": [
      "***** eval metrics *****\n",
      "  epoch                   =        4.0\n",
      "  eval_accuracy           =     0.9925\n",
      "  eval_loss               =     0.0371\n",
      "  eval_runtime            = 0:00:25.96\n",
      "  eval_samples_per_second =      5.122\n",
      "  eval_steps_per_second   =      0.655\n"
     ]
    }
   ],
   "source": [
    "metrics = trainer.evaluate(prepared_ds['validation'])\n",
    "trainer.log_metrics(\"eval\", metrics)\n",
    "trainer.save_metrics(\"eval\", metrics)"
   ]
  },
  {
   "cell_type": "code",
   "execution_count": 9,
   "metadata": {},
   "outputs": [],
   "source": [
    "import urllib.parse as parse\n",
    "import requests\n",
    "import os\n",
    "from PIL import Image\n",
    "def is_url(string):\n",
    "    try:\n",
    "        result = parse.urlparse(string)\n",
    "        return all([result.scheme, result.netloc, result.path])\n",
    "    except:\n",
    "        return False\n",
    "\n",
    "def load_image(image_path):\n",
    "    if is_url(image_path):\n",
    "        return Image.open(requests.get(image_path, stream=True).raw)\n",
    "    elif os.path.exists(image_path):\n",
    "        return Image.open(image_path)"
   ]
  },
  {
   "cell_type": "code",
   "execution_count": 12,
   "metadata": {},
   "outputs": [
    {
     "name": "stderr",
     "output_type": "stream",
     "text": [
      "c:\\Users\\user10\\AppData\\Local\\anaconda3\\envs\\ml\\lib\\site-packages\\transformers\\models\\vit\\feature_extraction_vit.py:28: FutureWarning: The class ViTFeatureExtractor is deprecated and will be removed in version 5 of Transformers. Please use ViTImageProcessor instead.\n",
      "  warnings.warn(\n"
     ]
    }
   ],
   "source": [
    "from transformers import ViTImageProcessor, ViTConfig,ViTFeatureExtractor,ViTForImageClassification\n",
    "import torch.nn.functional as F\n",
    "import numpy as np\n",
    "sPath_model = './vit-base-beans'\n",
    "\n",
    "config = ViTConfig.from_pretrained(sPath_model)\n",
    "model = ViTForImageClassification.from_pretrained(sPath_model, config=config)\n",
    "processor = ViTImageProcessor.from_pretrained(sPath_model, config=config)\n",
    "feature_extractor = ViTFeatureExtractor.from_pretrained(sPath_model)\n",
    "\n",
    "def predict(image):\n",
    "  inputs = processor(images=image, return_tensors=\"pt\")\n",
    "  output = model(**inputs)\n",
    "  logits = output.logits\n",
    "  logits_detached = logits.detach().numpy()[0]\n",
    "  logits_detached_play = logits_detached.copy()\n",
    "\n",
    "  probabilities = F.softmax(logits, dim=-1)\n",
    "  pred_class = np.argmax(logits_detached_play)\n",
    "  probability = probabilities[0, pred_class].item()\n",
    "  sLabel = config.id2label[pred_class]\n",
    " \n",
    "  return f'with {probability} probability it is {sLabel} '"
   ]
  },
  {
   "cell_type": "code",
   "execution_count": 13,
   "metadata": {},
   "outputs": [
    {
     "data": {
      "text/plain": [
       "'with 0.9874966144561768 probability it is angular_leaf_spot '"
      ]
     },
     "execution_count": 13,
     "metadata": {},
     "output_type": "execute_result"
    }
   ],
   "source": [
    "url = './test.jpeg'\n",
    "image = load_image(url)\n",
    "predict(image)"
   ]
  },
  {
   "cell_type": "code",
   "execution_count": null,
   "metadata": {},
   "outputs": [],
   "source": []
  }
 ],
 "metadata": {
  "kernelspec": {
   "display_name": "huggingface",
   "language": "python",
   "name": "python3"
  },
  "language_info": {
   "codemirror_mode": {
    "name": "ipython",
    "version": 3
   },
   "file_extension": ".py",
   "mimetype": "text/x-python",
   "name": "python",
   "nbconvert_exporter": "python",
   "pygments_lexer": "ipython3",
   "version": "3.10.13"
  }
 },
 "nbformat": 4,
 "nbformat_minor": 2
}
